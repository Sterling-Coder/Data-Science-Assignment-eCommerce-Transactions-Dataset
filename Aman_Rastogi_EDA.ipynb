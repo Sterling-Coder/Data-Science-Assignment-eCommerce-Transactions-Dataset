{
 "cells": [
  {
   "cell_type": "markdown",
   "metadata": {},
   "source": [
    "Task 1: Exploratory Data Analysis (EDA) and Business Insights"
   ]
  },
  {
   "cell_type": "code",
   "execution_count": 75,
   "metadata": {},
   "outputs": [
    {
     "ename": "ModuleNotFoundError",
     "evalue": "No module named 'pandas'",
     "output_type": "error",
     "traceback": [
      "\u001b[0;31m---------------------------------------------------------------------------\u001b[0m",
      "\u001b[0;31mModuleNotFoundError\u001b[0m                       Traceback (most recent call last)",
      "Cell \u001b[0;32mIn[75], line 1\u001b[0m\n\u001b[0;32m----> 1\u001b[0m \u001b[39mimport\u001b[39;00m\u001b[39m \u001b[39m\u001b[39mpandas\u001b[39;00m\u001b[39m \u001b[39m\u001b[39mas\u001b[39;00m\u001b[39m \u001b[39m\u001b[39mpd\u001b[39;00m\n\u001b[1;32m      3\u001b[0m \u001b[39m# Load the datasets\u001b[39;00m\n\u001b[1;32m      4\u001b[0m customers_path \u001b[39m=\u001b[39m \u001b[39m'\u001b[39m\u001b[39m/Users/aman_r/Desktop/Data Science Assignment/DataSets/Customers.csv\u001b[39m\u001b[39m'\u001b[39m\n",
      "\u001b[0;31mModuleNotFoundError\u001b[0m: No module named 'pandas'"
     ]
    }
   ],
   "source": [
    "import pandas as pd\n",
    "\n",
    "# Load the datasets\n",
    "customers_path = '/Users/aman_r/Desktop/Data Science Assignment/DataSets/Customers.csv'\n",
    "products_path = '/Users/aman_r/Desktop/Data Science Assignment/DataSets/Products.csv'\n",
    "transactions_path = '/Users/aman_r/Desktop/Data Science Assignment/DataSets/Transactions.csv'\n",
    "\n",
    "customers = pd.read_csv(customers_path)\n",
    "products = pd.read_csv(products_path)\n",
    "transactions = pd.read_csv(transactions_path)\n",
    "\n",
    "# Displaying the first few rows of each dataset for an initial understanding\n",
    "customers_head = customers.head()\n",
    "products_head = products.head()\n",
    "transactions_head = transactions.head()\n",
    "\n",
    "# Checking data summaries for insights into structure and potential issues\n",
    "customers_info = customers.info()\n",
    "products_info = products.info()\n",
    "transactions_info = transactions.info()\n",
    "\n",
    "# Display the initial exploration results\n",
    "customers_head, products_head, transactions_head, customers_info, products_info, transactions_info"
   ]
  },
  {
   "cell_type": "code",
   "execution_count": 76,
   "metadata": {},
   "outputs": [
    {
     "ename": "ModuleNotFoundError",
     "evalue": "No module named 'matplotlib'",
     "output_type": "error",
     "traceback": [
      "\u001b[0;31m---------------------------------------------------------------------------\u001b[0m",
      "\u001b[0;31mModuleNotFoundError\u001b[0m                       Traceback (most recent call last)",
      "Cell \u001b[0;32mIn[76], line 1\u001b[0m\n\u001b[0;32m----> 1\u001b[0m \u001b[39mimport\u001b[39;00m\u001b[39m \u001b[39m\u001b[39mmatplotlib\u001b[39;00m\u001b[39m.\u001b[39;00m\u001b[39mpyplot\u001b[39;00m\u001b[39m \u001b[39m\u001b[39mas\u001b[39;00m\u001b[39m \u001b[39m\u001b[39mplt\u001b[39;00m\n\u001b[1;32m      2\u001b[0m \u001b[39mimport\u001b[39;00m\u001b[39m \u001b[39m\u001b[39mseaborn\u001b[39;00m\u001b[39m \u001b[39m\u001b[39mas\u001b[39;00m\u001b[39m \u001b[39m\u001b[39msns\u001b[39;00m\n\u001b[1;32m      4\u001b[0m \u001b[39m# Convert date columns to datetime\u001b[39;00m\n",
      "\u001b[0;31mModuleNotFoundError\u001b[0m: No module named 'matplotlib'"
     ]
    }
   ],
   "source": [
    "import matplotlib.pyplot as plt\n",
    "import seaborn as sns\n",
    "\n",
    "# Convert date columns to datetime\n",
    "customers['SignupDate'] = pd.to_datetime(customers['SignupDate'])\n",
    "transactions['TransactionDate'] = pd.to_datetime(transactions['TransactionDate'])\n",
    "\n",
    "# Overview of data: Checking distributions and trends\n",
    "\n",
    "# Customer signups over time\n",
    "customer_signup_trend = customers['SignupDate'].dt.year.value_counts().sort_index()\n",
    "\n",
    "# Top categories by count in the Products dataset\n",
    "top_categories = products['Category'].value_counts()\n",
    "\n",
    "# Most frequently purchased products in Transactions\n",
    "top_products = transactions['ProductID'].value_counts().head(10)\n",
    "\n",
    "# Plotting trends and distributions\n",
    "\n",
    "# Customer signup trend\n",
    "plt.figure(figsize=(8, 5))\n",
    "customer_signup_trend.plot(kind='bar', color='skyblue')\n",
    "plt.title('Customer Signups Over Years')\n",
    "plt.xlabel('Year')\n",
    "plt.ylabel('Number of Signups')\n",
    "plt.xticks(rotation=0)\n",
    "plt.show()\n",
    "\n",
    "# Top categories\n",
    "plt.figure(figsize=(8, 5))\n",
    "top_categories.plot(kind='bar', color='lightgreen')\n",
    "plt.title('Top Product Categories')\n",
    "plt.xlabel('Category')\n",
    "plt.ylabel('Count')\n",
    "plt.xticks(rotation=45)\n",
    "plt.show()\n",
    "\n",
    "# Top purchased products\n",
    "plt.figure(figsize=(8, 5))\n",
    "top_products.plot(kind='bar', color='orange')\n",
    "plt.title('Top 10 Purchased Products')\n",
    "plt.xlabel('ProductID')\n",
    "plt.ylabel('Number of Transactions')\n",
    "plt.xticks(rotation=45)\n",
    "plt.show()\n",
    "\n",
    "# Let me know if you want more specific EDA steps or to explore any trend further."
   ]
  }
 ],
 "metadata": {
  "kernelspec": {
   "display_name": "Python 3",
   "language": "python",
   "name": "python3"
  },
  "language_info": {
   "codemirror_mode": {
    "name": "ipython",
    "version": 3
   },
   "file_extension": ".py",
   "mimetype": "text/x-python",
   "name": "python",
   "nbconvert_exporter": "python",
   "pygments_lexer": "ipython3",
   "version": "3.12.2"
  },
  "orig_nbformat": 4
 },
 "nbformat": 4,
 "nbformat_minor": 2
}
