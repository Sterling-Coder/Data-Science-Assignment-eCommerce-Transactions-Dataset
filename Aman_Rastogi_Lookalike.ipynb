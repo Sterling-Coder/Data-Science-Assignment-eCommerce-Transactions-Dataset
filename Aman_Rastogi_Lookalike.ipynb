{
 "cells": [
  {
   "cell_type": "markdown",
   "metadata": {},
   "source": [
    "Task 2: Lookalike Model"
   ]
  },
  {
   "cell_type": "code",
   "execution_count": 2,
   "metadata": {},
   "outputs": [
    {
     "data": {
      "text/html": [
       "<div>\n",
       "<style scoped>\n",
       "    .dataframe tbody tr th:only-of-type {\n",
       "        vertical-align: middle;\n",
       "    }\n",
       "\n",
       "    .dataframe tbody tr th {\n",
       "        vertical-align: top;\n",
       "    }\n",
       "\n",
       "    .dataframe thead th {\n",
       "        text-align: right;\n",
       "    }\n",
       "</style>\n",
       "<table border=\"1\" class=\"dataframe\">\n",
       "  <thead>\n",
       "    <tr style=\"text-align: right;\">\n",
       "      <th></th>\n",
       "      <th>CustomerID</th>\n",
       "      <th>Lookalikes</th>\n",
       "    </tr>\n",
       "  </thead>\n",
       "  <tbody>\n",
       "    <tr>\n",
       "      <th>0</th>\n",
       "      <td>C0001</td>\n",
       "      <td>[(C0107, 0.9999653443811154), (C0137, 0.999944...</td>\n",
       "    </tr>\n",
       "    <tr>\n",
       "      <th>1</th>\n",
       "      <td>C0002</td>\n",
       "      <td>[(C0043, 0.9996660509784008), (C0136, 0.999606...</td>\n",
       "    </tr>\n",
       "    <tr>\n",
       "      <th>2</th>\n",
       "      <td>C0003</td>\n",
       "      <td>[(C0157, 0.9999852171328136), (C0029, 0.999982...</td>\n",
       "    </tr>\n",
       "    <tr>\n",
       "      <th>3</th>\n",
       "      <td>C0004</td>\n",
       "      <td>[(C0132, 0.9999482716616489), (C0113, 0.999822...</td>\n",
       "    </tr>\n",
       "    <tr>\n",
       "      <th>4</th>\n",
       "      <td>C0005</td>\n",
       "      <td>[(C0092, 0.9999995165903441), (C0022, 0.999997...</td>\n",
       "    </tr>\n",
       "  </tbody>\n",
       "</table>\n",
       "</div>"
      ],
      "text/plain": [
       "  CustomerID                                         Lookalikes\n",
       "0      C0001  [(C0107, 0.9999653443811154), (C0137, 0.999944...\n",
       "1      C0002  [(C0043, 0.9996660509784008), (C0136, 0.999606...\n",
       "2      C0003  [(C0157, 0.9999852171328136), (C0029, 0.999982...\n",
       "3      C0004  [(C0132, 0.9999482716616489), (C0113, 0.999822...\n",
       "4      C0005  [(C0092, 0.9999995165903441), (C0022, 0.999997..."
      ]
     },
     "execution_count": 2,
     "metadata": {},
     "output_type": "execute_result"
    }
   ],
   "source": [
    "import pandas as pd\n",
    "from sklearn.preprocessing import LabelEncoder\n",
    "from sklearn.metrics.pairwise import cosine_similarity\n",
    "import numpy as np\n",
    "\n",
    "# Reload the datasets\n",
    "customers = pd.read_csv('/Users/aman_r/Documents/Data Science Assignment/DataSets/Customers.csv')\n",
    "products = pd.read_csv('/Users/aman_r/Documents/Data Science Assignment/DataSets/Products.csv')\n",
    "transactions = pd.read_csv('/Users/aman_r/Documents/Data Science Assignment/DataSets/Transactions.csv')\n",
    "\n",
    "# Merge Customers and Transactions data on CustomerID\n",
    "merged_data = transactions.merge(customers, on='CustomerID')\n",
    "\n",
    "# Encode categorical variables for similarity calculation\n",
    "label_encoder = LabelEncoder()\n",
    "merged_data['Region_Encoded'] = label_encoder.fit_transform(merged_data['Region'])\n",
    "\n",
    "# Aggregate features for each customer\n",
    "customer_features = merged_data.groupby('CustomerID').agg({\n",
    "    'Region_Encoded': 'first',  # Region as a categorical feature\n",
    "    'TotalValue': 'sum',  # Total spending\n",
    "    'Quantity': 'sum',  # Total quantity purchased\n",
    "}).reset_index()\n",
    "\n",
    "# Normalize numerical features\n",
    "customer_features[['TotalValue', 'Quantity']] = customer_features[['TotalValue', 'Quantity']].apply(lambda x: (x - x.min()) / (x.max() - x.min()))\n",
    "\n",
    "# Create a feature matrix\n",
    "feature_matrix = customer_features[['Region_Encoded', 'TotalValue', 'Quantity']].values\n",
    "\n",
    "# Compute cosine similarity\n",
    "similarity_matrix = cosine_similarity(feature_matrix)\n",
    "\n",
    "# Retrieve top 3 similar customers for CustomerIDs C0001–C0020\n",
    "customer_ids = customer_features['CustomerID'].tolist()\n",
    "lookalike_results = {}\n",
    "\n",
    "for idx, customer_id in enumerate(customer_ids[:20]):  # First 20 customers\n",
    "    # Get similarity scores for the current customer\n",
    "    scores = similarity_matrix[idx]\n",
    "    # Get top 3 similar customers excluding itself\n",
    "    top_indices = np.argsort(scores)[::-1][1:4]\n",
    "    lookalike_results[customer_id] = [(customer_ids[i], scores[i]) for i in top_indices]\n",
    "\n",
    "# Convert results to a DataFrame for easier export\n",
    "lookalike_df = pd.DataFrame([{'CustomerID': key, 'Lookalikes': value} for key, value in lookalike_results.items()])\n",
    "\n",
    "# Display the lookalike results for review\n",
    "lookalike_df.head()"
   ]
  }
 ],
 "metadata": {
  "kernelspec": {
   "display_name": "base",
   "language": "python",
   "name": "python3"
  },
  "language_info": {
   "codemirror_mode": {
    "name": "ipython",
    "version": 3
   },
   "file_extension": ".py",
   "mimetype": "text/x-python",
   "name": "python",
   "nbconvert_exporter": "python",
   "pygments_lexer": "ipython3",
   "version": "3.10.9"
  }
 },
 "nbformat": 4,
 "nbformat_minor": 2
}
